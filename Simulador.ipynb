{
 "cells": [
  {
   "cell_type": "code",
   "execution_count": 1,
   "metadata": {},
   "outputs": [],
   "source": [
    "import random\n",
    "import numpy as np\n",
    "from collections import deque\n",
    "import pandas as pd "
   ]
  },
  {
   "cell_type": "markdown",
   "metadata": {},
   "source": [
    "# Parámetros"
   ]
  },
  {
   "cell_type": "code",
   "execution_count": 2,
   "metadata": {},
   "outputs": [],
   "source": [
    "#Horizonte de simulacion (Turnos)\n",
    "Turnos = 1\n",
    "Reloj = 0"
   ]
  },
  {
   "cell_type": "code",
   "execution_count": 3,
   "metadata": {},
   "outputs": [],
   "source": [
    "#Se leen las caracteristicas de las palas\n",
    "dfPalas = pd.read_excel('Informacion Palas.xlsx',  1)\n",
    "InfoPalas = list(zip(dfPalas[dfPalas.columns[0]].values, dfPalas[dfPalas.columns[1]].values, dfPalas[dfPalas.columns[2]].values, \\\n",
    "                            dfPalas[dfPalas.columns[3]].values, dfPalas[dfPalas.columns[4]].values, \\\n",
    "                            dfPalas[dfPalas.columns[5]].values, dfPalas[dfPalas.columns[6]].values, \\\n",
    "                            dfPalas[dfPalas.columns[7]].values, dfPalas[dfPalas.columns[8]].values))\n",
    "\n",
    "#Lista de nodos de mineral y esteril\n",
    "Nodos_Mineral = [\"P1\", \"P2\", \"P3\", \"P4\", \"P5\"]\n",
    "Nodos_Esteril = [\"P6\", \"P7\", \"P8\", \"P9\" ]\n",
    "\n",
    "#Número de camiones disponibles\n",
    "total_camiones = 81\n",
    "\n",
    "#Lista de stocks/botaderos\n",
    "#ID, espacios, ubicacion, tiempo_atencion ID=ubicacion?\n",
    "SoB = [\"S1\", \"S2\", \"B1\", \"B2\"]\n",
    "espacios = 5\n",
    "tiempo_atencion_stock = 70 #segundos\n",
    "\n",
    "#Se lee la informacion del chancador\n",
    "dfChancador = pd.read_excel('Informacion Palas.xlsx',  0)\n",
    "InfoChancador = list(zip(dfChancador[dfChancador.columns[0]].values, dfChancador[dfChancador.columns[1]].values, dfChancador[dfChancador.columns[2]].values, \\\n",
    "                            dfChancador[dfChancador.columns[3]].values, dfChancador[dfChancador.columns[4]].values, \\\n",
    "                            dfChancador[dfChancador.columns[5]].values, dfChancador[dfChancador.columns[6]].values, \\\n",
    "                            dfChancador[dfChancador.columns[7]].values, dfChancador[dfChancador.columns[8]].values))"
   ]
  },
  {
   "cell_type": "markdown",
   "metadata": {},
   "source": [
    "# 1. Clases\n",
    "## 1.1. Palas"
   ]
  },
  {
   "cell_type": "code",
   "execution_count": 4,
   "metadata": {},
   "outputs": [],
   "source": [
    "class Pala:\n",
    "    def __init__(self, ID, capacidad, ubicacion, media_recuperacion, media_falla, velocidad, tiempo_aculatado, min_carga, moda_carga, max_carga):\n",
    "        self.ubicacion = ubicacion #Nodo en que esta ubicada la pala\n",
    "        self.capacidad = capacidad #Capacidad nominal de excavacion\n",
    "        self.ID = ID #ID pala\n",
    "        self.fila = deque() #camiones en fila para se atendidos\n",
    "        self.aculatados = deque() #camiones aculatados \n",
    "        self.horas_eventos = {\"Recuperacion\":99999999, \"Caida\":None, \"Inicio Movimiento\":99999999, \"Fin Movimiento\":99999999} \n",
    "        self.proximo_evento = None #Nombre del evento mas proximo\n",
    "        self.toneladas_sacadas = {} #Diccionario de tuplas con toneladas sacadas por posicion/nodo y ley\n",
    "        self.puntaje = None #Puntaje para definir criticidad de la pala (Usado en Li por ej.)\n",
    "        self.media_recuperacion = media_recuperacion\n",
    "        self.media_falla = media_falla\n",
    "        self.velocidad = velocidad\n",
    "        self.TPH = {} #Diccionario con los resultados del PL\n",
    "        self.tiempo_aculatado = tiempo_aculatado\n",
    "        self.tiempo_atencion = None\n",
    "        self.min = min_carga\n",
    "        self.moda = moda_carga\n",
    "        self.max = max_carga\n",
    "               \n",
    "            \n",
    "    def caida(self, Reloj):#Completar comn PL y con Dinamico\n",
    "        self.estado = 0\n",
    "        #POR FUERA:\n",
    "        #Se debe correr el PL y luego el dinámico para todos los camiones en la fila, y en camion hacia la pala\n",
    "        #for cada camion if camion hacia pala.ID correr dinamico \n",
    "        self.horas_eventos[\"Caida\"] = 99999999\n",
    "        self.horas_eventos[\"Recuperacion\"] = Reloj + self.tiempo_recuperacion()\n",
    "        if self.horas_eventos[\"Recuperacion\"] > self.horas_eventos[\"Inicio Movimiento\"]:\n",
    "            self.horas_eventos[\"Inicio Movimiento\"] = self.horas_eventos[\"Recuperacion\"] + 0.0001 #Postergo el movimiento hasta que se arregle la pala\n",
    "        self.proximo_evento = \"Recuperacion\"\n",
    "        return None\n",
    "    \n",
    "    def recuperacion(self, Reloj):\n",
    "        self.estado = 1\n",
    "        self.horas_eventos[\"Recuperacion\"] = 99999999\n",
    "        self.horas_eventos[\"Caida\"] = Reloj + self.tiempo_falla()\n",
    "        self.proximo_evento = min(horas_eventos, key=horas_eventos.get)\n",
    "        return None\n",
    "    \n",
    "    def inicio_movimiento(self, Reloj, destino, MTV):\n",
    "        pass\n",
    "    \n",
    "    def fin_movimiento(self, Reloj, Lista_movimientos_agendados):\n",
    "        pass\n",
    "       \n",
    "    def tiempo_recuperacion(self):\n",
    "        return(np.random.exponential(self.media_recuperacion))\n",
    "    \n",
    "    def tiempo_falla(self):\n",
    "        return(np.random.exponential(self.media_falla))\n",
    "    \n",
    "    def hora_proximo_evento(self):\n",
    "        return(min(horas_eventos.values()))\n",
    "    \n",
    "    def duracion_atencion(self):\n",
    "        return(np.random.triangular(self.min, self.moda, self.max))\n",
    "    \n",
    "    def __str__(self):\n",
    "        return str(self.ID)\n",
    "    def __unicode__(self):\n",
    "        return str(self.ID)\n",
    "    def __repr__(self):\n",
    "        return str(self.ID)\n",
    "        "
   ]
  },
  {
   "cell_type": "markdown",
   "metadata": {},
   "source": [
    "## 1.2. Camiones"
   ]
  },
  {
   "cell_type": "code",
   "execution_count": 5,
   "metadata": {},
   "outputs": [],
   "source": [
    "class Camion:\n",
    "    def __init__(self, ID):\n",
    "        self.ID = ID\n",
    "        self.destino = None\n",
    "        self.origen = None\n",
    "        self.almuerzo = None #0: No almorzo, 1 primera colacion, 2 segunda colacion (solo aplica turno B)\n",
    "        self.hora_siguiente = 0\n",
    "        self.descargas = {} #Diccionario que almacena la historia de las descargas: key = (Origen, Destino)| value = toneladas\n",
    "        self.carga = 0\n",
    "        self.aculatandose = False\n",
    "        self.estado = None #Viajando, Aculatandose, Cargando, Descargando\n",
    "        \n",
    "    def descargar(self, nuevo_destino):\n",
    "        self.toneladas = 0\n",
    "        self.origen = self.destino\n",
    "        self.destino = nuevo_destino\n",
    "        self.descargas[(origen, destino)] = self.carga \n",
    "        self.carga = 0\n",
    "        return None\n",
    "    \n",
    "    def cargar(self, toneladas_cargadas, nuevo_destino):\n",
    "        self.origen = self.destino\n",
    "        self.destino = nuevo_destino\n",
    "        self.carga = toneladas_cargadas\n",
    "        return None\n",
    "    \n",
    "    def asignar_destino(self, Reloj, nuevo_destino, MTV):\n",
    "        self.destino = nuevo_destino\n",
    "        actualizar_estado(\"Viajando\", Reloj + MTV[self.origen][self.destino])\n",
    "    \n",
    "    def actualizar_estado(self, Estado, Hora):\n",
    "        self.estado = Estado \n",
    "        self.hora_siguiente = Hora\n",
    "        \n",
    "    def __str__(self):\n",
    "        return str(self.ID)\n",
    "    def __unicode__(self):\n",
    "        return str(self.ID)\n",
    "    def __repr__(self):\n",
    "        return str(self.ID)\n",
    "        \n",
    "        \n",
    "        \n",
    "        \n",
    "        "
   ]
  },
  {
   "cell_type": "markdown",
   "metadata": {},
   "source": [
    "## 1.3. Stock - Botadero"
   ]
  },
  {
   "cell_type": "code",
   "execution_count": 6,
   "metadata": {},
   "outputs": [],
   "source": [
    "class Stock:\n",
    "    \n",
    "    def __init__(self, ID, espacios, ubicacion, tiempo_atencion, tiempo_aculatado):\n",
    "        self.ID = ID\n",
    "        self.fila = deque()\n",
    "        self.espacios_aculatamiento = [0 for i in range(espacios)]\n",
    "        self.ubicacion = ubicacion\n",
    "        self.tiempo_atencion = tiempo_atencion\n",
    "        self.hora_siguiente = 99999999\n",
    "        self.tiempo_aculatado = tiempo_aculatado \n",
    "    \n",
    "    def avanzar_fila(self):\n",
    "        camion = self.fila.pop()\n",
    "        return camion\n",
    "    \n",
    "    def __str__(self):\n",
    "        return str(self.ID)\n",
    "    def __unicode__(self):\n",
    "        return str(self.ID)\n",
    "    def __repr__(self):\n",
    "        return str(self.ID)\n",
    "        \n",
    "   "
   ]
  },
  {
   "cell_type": "markdown",
   "metadata": {},
   "source": [
    "## 1.4. Chancador"
   ]
  },
  {
   "cell_type": "code",
   "execution_count": 7,
   "metadata": {},
   "outputs": [],
   "source": [
    "class Chancador:\n",
    "    \n",
    "    def __init__(self, ID, ubicacion, media_falla, media_recuperacion, tiempo_aculatado, min_carga, moda_carga, max_carga):\n",
    "        self.ID = ID\n",
    "        self.ubicacion = ubicacion\n",
    "        self.espacios_aculatamiento = [0, 0]\n",
    "        self.fila = deque()\n",
    "        self.media_falla = media_falla\n",
    "        self.media_recuperacion = media_recuperacion\n",
    "        self.tiempo_aculatado = tiempo_aculatado\n",
    "        self.min = min_carga\n",
    "        self.moda = moda_carga\n",
    "        self.max = max_carga\n",
    "    \n",
    "    def tiempo_recuperacion(self):\n",
    "        return(np.random.exponential(self.media_recuperacion))\n",
    "    \n",
    "    def tiempo_falla(self):\n",
    "        return(np.random.exponential(self.media_falla))\n",
    "    \n",
    "    def hora_proximo_evento(self):\n",
    "        return(min(horas_eventos.values()))\n",
    "    \n",
    "    def duracion_atencion(self):\n",
    "        return(np.random.triangular(self.min, self.moda, self.max))\n",
    "    \n",
    "    def __str__(self):\n",
    "        return str(self.ID)\n",
    "    def __unicode__(self):\n",
    "        return str(self.ID)\n",
    "    def __repr__(self):\n",
    "        return str(self.ID)\n",
    "        \n",
    "    "
   ]
  },
  {
   "cell_type": "markdown",
   "metadata": {},
   "source": [
    "# 2. Simulación\n",
    "## 2.1. Inicialización "
   ]
  },
  {
   "cell_type": "code",
   "execution_count": 17,
   "metadata": {},
   "outputs": [
    {
     "name": "stdout",
     "output_type": "stream",
     "text": [
      "[PA21, PA13, PA12, PA15, PA9, PA10, PA6, PA8, PA20, PA11, PA14, 0, 1, 2, 3, 4, 5, 6, 7, 8, 9, 10, 11, 12, 13, 14, 15, 16, 17, 18, 19, 20, 21, 22, 23, 24, 25, 26, 27, 28, 29, 30, 31, 32, 33, 34, 35, 36, 37, 38, 39, 40, 41, 42, 43, 44, 45, 46, 47, 48, 49, 50, 51, 52, 53, 54, 55, 56, 57, 58, 59, 60, 61, 62, 63, 64, 65, 66, 67, 68, 69, 70, 71, 72, 73, 74, 75, 76, 77, 78, 79, 80, S1, S2, B1, B2, CS03]\n"
     ]
    }
   ],
   "source": [
    "#Se evalúa que palas estarán operativas y en que condición y se generan las instancias \n",
    "L_Entidades = []\n",
    "#Esteril: 303\n",
    "#Mineral: 293\n",
    "D_Palas = {}\n",
    "for pala in InfoPalas:\n",
    "    u = np.random.uniform(0,1)\n",
    "    \n",
    "    if 0 <= u and u < pala[3]:\n",
    "        pass\n",
    "    \n",
    "    elif pala[3] <= u and u < pala[4]:\n",
    "        D_Palas[pala[0]] = Pala(pala[0], \"TONELADAS X CARGA\", \"NODO\", pala[2], pala[1], \"velocidad\", \\\n",
    "                                pala[8], pala[5], pala[6], pala[7])\n",
    "        L_Entidades.append(D_Palas[pala[0]])\n",
    "       \n",
    "    else:\n",
    "        D_Palas[pala[0]] = Pala(pala[0], \"TONELADAS X CARGA\", \"NODO\", pala[2], pala[1], \"velocidad\", \\\n",
    "                                pala[8], pala[5], pala[6], pala[7]) \n",
    "        L_Entidades.append(D_Palas[pala[0]])\n",
    "#print(\"Palas: \",D_Palas)\n",
    "\n",
    "#Se inicializan los camiones\n",
    "D_Camiones = {}\n",
    "for i in range(total_camiones):\n",
    "    D_Camiones[i] = Camion(i)\n",
    "    L_Entidades.append(Camion(i))\n",
    "#print(\"Camiones :\", D_Camiones)\n",
    "\n",
    "#Se inicializan los stocks/botaderos\n",
    "D_Stocks = {}\n",
    "for stock in SoB:\n",
    "    D_Stocks[stock] = Stock(stock, espacios, \"NODO\", tiempo_atencion_stock, \"TIEMPO ACULATADO\")\n",
    "    L_Entidades.append(D_Stocks[stock])\n",
    "#print(\"Stocks y Botaderos :\", D_Stocks)    \n",
    "\n",
    "#Se inicializa el Chancador\n",
    "D_Chancador ={}\n",
    "for chancador in InfoChancador:\n",
    "    D_Chancador[chancador[0]] = Chancador(chancador[0], \"NODO\", chancador[1], chancador[2], chancador[8], \\\n",
    "                                          chancador[5], chancador[6], chancador[7])\n",
    "    L_Entidades.append(D_Chancador[chancador[0]])\n",
    "#print(\"Chancador: \", D_Chancador)\n",
    "\n",
    "print(L_Entidades)"
   ]
  },
  {
   "cell_type": "code",
   "execution_count": 10,
   "metadata": {},
   "outputs": [
    {
     "data": {
      "text/plain": [
       "'Camion'"
      ]
     },
     "execution_count": 10,
     "metadata": {},
     "output_type": "execute_result"
    }
   ],
   "source": [
    "#Identificamos el siguiente evento que va a ocurrir\n",
    "\n",
    "\n",
    "\n",
    "D_Camiones[0].__class__.__name__"
   ]
  }
 ],
 "metadata": {
  "kernelspec": {
   "display_name": "Python 3",
   "language": "python",
   "name": "python3"
  },
  "language_info": {
   "codemirror_mode": {
    "name": "ipython",
    "version": 3
   },
   "file_extension": ".py",
   "mimetype": "text/x-python",
   "name": "python",
   "nbconvert_exporter": "python",
   "pygments_lexer": "ipython3",
   "version": "3.7.3"
  }
 },
 "nbformat": 4,
 "nbformat_minor": 2
}
