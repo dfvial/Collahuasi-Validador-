{
 "cells": [
  {
   "cell_type": "code",
   "execution_count": 2,
   "metadata": {},
   "outputs": [],
   "source": [
    "import pandas as pd\n",
    "import json\n",
    "import networkx as nx"
   ]
  },
  {
   "cell_type": "code",
   "execution_count": 3,
   "metadata": {},
   "outputs": [],
   "source": [
    "df = pd.read_excel('Travel.xlsx')\n",
    "df.columns = df.iloc[0]\n",
    "df.drop(0, inplace = True)\n",
    "Arcos = []\n",
    "for index, row in df.iterrows():\n",
    "    Arcos.append([row[2], row[3], row[7], row[8], row[9]])"
   ]
  },
  {
   "cell_type": "code",
   "execution_count": 4,
   "metadata": {},
   "outputs": [],
   "source": [
    "LocStart = [Arcos[i][0] for i in range(0,len(Arcos))]    #Origen arco\n",
    "LocEnd = [Arcos[i][1] for i in range(0,len(Arcos))]      #Destino arco\n",
    "TimeEmpty = [Arcos[i][2] for i in range(0,len(Arcos))]   #Tiempo vacío arco\n",
    "TimeLoad = [Arcos[i][3] for i in range(0,len(Arcos))]    #Tiemp cargado arco\n",
    "Closed = [Arcos[i][4] for i in range(0,len(Arcos))]      #Camino cerrado (1 o 0\n",
    "\n",
    "#Crear grafo completo desde \"tabla\" MTV\n",
    "Nodos = pd.unique(LocStart+LocEnd) \n",
    "Grafo = nx.DiGraph()\n",
    "Grafo.add_nodes_from(Nodos)\n",
    "\n",
    "for i in range(0,len(Arcos)):\n",
    "    Grafo.add_edge(LocStart[i], LocEnd[i], time_empty = TimeEmpty[i], time_load = TimeLoad[i], closed = Closed[i])\n",
    "\n",
    "# Ejecutar algoritmo Floyd_Warshall\n",
    "predecessors, distance = nx.floyd_warshall_predecessor_and_distance(Grafo, weight='time_empty')\n",
    "predecessors_loaded, distance_loaded = nx.floyd_warshall_predecessor_and_distance(Grafo, weight='time_load')\n",
    "#Se construye diccionario (NodoInicio,NodoTérmino)->(lista camino minimo, Lista tiempos acumulados)\n",
    "caminosMinimosYTiemposAcumulados = {}\n",
    "\n",
    "\n"
   ]
  },
  {
   "cell_type": "code",
   "execution_count": 5,
   "metadata": {},
   "outputs": [],
   "source": [
    "for nodoInicio in Nodos:\n",
    "    for nodoTermino in Nodos:\n",
    "        camino = nx.reconstruct_path(nodoInicio,nodoTermino,predecessors)\n",
    "        tiempos = []\n",
    "        tiempoAcumulado = 0\n",
    "        tiempos.append(tiempoAcumulado)\n",
    "        for i in range(0,len(camino)-1):\n",
    "            tiempoAcumulado += distance[camino[i]][camino[i+1]]\n",
    "            tiempos.append(tiempoAcumulado)\n",
    "        caminosMinimosYTiemposAcumulados[(nodoInicio,nodoTermino)] = (camino,tiempos)"
   ]
  },
  {
   "cell_type": "code",
   "execution_count": null,
   "metadata": {},
   "outputs": [],
   "source": []
  },
  {
   "cell_type": "code",
   "execution_count": 6,
   "metadata": {},
   "outputs": [],
   "source": [
    "MTV = {}\n",
    "for o in distance.keys():\n",
    "    MTV[o] = {}\n",
    "    for d in distance[o].keys():\n",
    "        MTV[o][d] = {}\n",
    "        if o == d:\n",
    "            MTV[o][d][0] = 0\n",
    "            MTV[o][d][1] = 0\n",
    "            \n",
    "        else:\n",
    "            try:\n",
    "                MTV[o][d][0] = distance[o][d]/60 \n",
    "                MTV[o][d][1] = distance_loaded[o][d]/60\n",
    "                \n",
    "            except:#Si el grafo no es conexo relleno\n",
    "                print((o, d))"
   ]
  },
  {
   "cell_type": "code",
   "execution_count": 7,
   "metadata": {},
   "outputs": [],
   "source": [
    "with open('MTV.txt', 'w') as file:\n",
    "     file.write(json.dumps(MTV)) # use `json.loads` to do the reverse"
   ]
  },
  {
   "cell_type": "code",
   "execution_count": 8,
   "metadata": {},
   "outputs": [],
   "source": [
    "with open(\"MTV.txt\") as tweetfile:\n",
    "    MTV = json.loads(tweetfile.read())"
   ]
  },
  {
   "cell_type": "code",
   "execution_count": null,
   "metadata": {},
   "outputs": [],
   "source": []
  },
  {
   "cell_type": "code",
   "execution_count": null,
   "metadata": {},
   "outputs": [],
   "source": []
  }
 ],
 "metadata": {
  "kernelspec": {
   "display_name": "Python 3",
   "language": "python",
   "name": "python3"
  },
  "language_info": {
   "codemirror_mode": {
    "name": "ipython",
    "version": 3
   },
   "file_extension": ".py",
   "mimetype": "text/x-python",
   "name": "python",
   "nbconvert_exporter": "python",
   "pygments_lexer": "ipython3",
   "version": "3.7.3"
  }
 },
 "nbformat": 4,
 "nbformat_minor": 2
}
